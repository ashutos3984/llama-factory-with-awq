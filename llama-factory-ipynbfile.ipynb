{
  "cells": [
    {
      "cell_type": "code",
      "execution_count": null,
      "id": "EDwS7yzkXEqO",
      "metadata": {
        "colab": {
          "base_uri": "https://localhost:8080/"
        },
        "executionInfo": {
          "elapsed": 3317823,
          "status": "ok",
          "timestamp": 1720594395739,
          "user": {
            "displayName": "",
            "userId": ""
          },
          "user_tz": -330
        },
        "id": "EDwS7yzkXEqO",
        "outputId": "3aca99c3-14e5-46d2-ad4e-14667a7a6a8b"
      },
      "outputs": [],
      "source": [
        "# Clone the AutoAWQ_kernels repository from GitHub\n",
        "# This repository contains the necessary kernels for the AWQ quantization method\n",
        "! git clone https://github.com/casper-hansen/AutoAWQ_kernels.git\n",
        "\n",
        "# Change the current working directory to the cloned AutoAWQ_kernels directory\n",
        "%cd AutoAWQ_kernels\n",
        "\n",
        "# Install the AutoAWQ_kernels package in editable mode\n",
        "# This allows you to make changes to the package and have them reflected immediately without reinstallation\n",
        "! pip install -e .\n"
      ]
    },
    {
      "cell_type": "code",
      "execution_count": 2,
      "id": "VkNswuSZRvsf",
      "metadata": {
        "colab": {
          "base_uri": "https://localhost:8080/"
        },
        "executionInfo": {
          "elapsed": 656,
          "status": "ok",
          "timestamp": 1720594422661,
          "user": {
            "displayName": "",
            "userId": ""
          },
          "user_tz": -330
        },
        "id": "VkNswuSZRvsf",
        "outputId": "b67ab544-682c-466c-8469-7ca427662925"
      },
      "outputs": [
        {
          "name": "stdout",
          "output_type": "stream",
          "text": [
            "/content\n"
          ]
        }
      ],
      "source": [
        "%cd /content"
      ]
    },
    {
      "cell_type": "code",
      "execution_count": null,
      "id": "nROJl72zRyei",
      "metadata": {
        "colab": {
          "base_uri": "https://localhost:8080/"
        },
        "executionInfo": {
          "elapsed": 12420,
          "status": "ok",
          "timestamp": 1720594440574,
          "user": {
            "displayName": "",
            "userId": ""
          },
          "user_tz": -330
        },
        "id": "nROJl72zRyei",
        "outputId": "a62f543e-901e-484c-b1e4-cc764f1d1fd8"
      },
      "outputs": [],
      "source": [
        "# Clone the LLaMA-Factory repository from GitHub\n",
        "# This repository contains the codebase for the LLaMA-Factory, which we will be updating to use the AWQ quantization method\n",
        "! git clone https://github.com/hiyouga/LLaMA-Factory.git"
      ]
    },
    {
      "cell_type": "code",
      "execution_count": 4,
      "id": "shRFHK6cRya9",
      "metadata": {
        "colab": {
          "base_uri": "https://localhost:8080/"
        },
        "executionInfo": {
          "elapsed": 632,
          "status": "ok",
          "timestamp": 1720594444070,
          "user": {
            "displayName": "",
            "userId": ""
          },
          "user_tz": -330
        },
        "id": "shRFHK6cRya9",
        "outputId": "0fe28cf1-576c-4708-e142-8188205c318d"
      },
      "outputs": [
        {
          "name": "stdout",
          "output_type": "stream",
          "text": [
            "/content/LLaMA-Factory\n"
          ]
        }
      ],
      "source": [
        "# Change the current working directory to the cloned LLaMA-Factory directory\n",
        "# This directory contains the codebase for LLaMA-Factory, which will be modified to integrate the AWQ quantization method\n",
        "%cd LLaMA-Factory"
      ]
    },
    {
      "cell_type": "code",
      "execution_count": null,
      "id": "90GcZT4XRyYu",
      "metadata": {
        "colab": {
          "base_uri": "https://localhost:8080/"
        },
        "executionInfo": {
          "elapsed": 36434,
          "status": "ok",
          "timestamp": 1720594485775,
          "user": {
            "displayName": "",
            "userId": ""
          },
          "user_tz": -330
        },
        "id": "90GcZT4XRyYu",
        "outputId": "0f726679-b683-4e30-9229-38b0ee18f156"
      },
      "outputs": [],
      "source": [
        "# Install the required Python packages listed in the requirements.txt file\n",
        "# This ensures that all dependencies needed for running LLaMA-Factory are installed\n",
        "! pip install -r requirements.txt"
      ]
    },
    {
      "cell_type": "code",
      "execution_count": null,
      "id": "MW5iPTs823hV",
      "metadata": {
        "colab": {
          "base_uri": "https://localhost:8080/"
        },
        "executionInfo": {
          "elapsed": 25103,
          "status": "ok",
          "timestamp": 1720594561970,
          "user": {
            "displayName": "",
            "userId": ""
          },
          "user_tz": -330
        },
        "id": "MW5iPTs823hV",
        "outputId": "3302acbb-00cc-45d6-bf9a-317d5b2fce5a"
      },
      "outputs": [],
      "source": [
        "# Install the LLaMA-Factory package in editable mode along with additional optional dependencies\n",
        "# The optional dependencies are specified in brackets and include:\n",
        "# - metrics: Additional metrics for evaluation\n",
        "# - bitsandbytes: Efficient computation library for large models\n",
        "# - qwen: Additional quantization methods\n",
        "# - awq: AWQ quantization method\n",
        "! pip install -e .[metrics,bitsandbytes,qwen,awq]"
      ]
    },
    {
      "cell_type": "code",
      "execution_count": null,
      "id": "OUGrOlRFE9fz",
      "metadata": {
        "colab": {
          "base_uri": "https://localhost:8080/"
        },
        "executionInfo": {
          "elapsed": 7256,
          "status": "ok",
          "timestamp": 1720594580368,
          "user": {
            "displayName": "",
            "userId": ""
          },
          "user_tz": -330
        },
        "id": "OUGrOlRFE9fz",
        "outputId": "08275330-6745-45d7-efff-ba54e677fd41"
      },
      "outputs": [],
      "source": [
        "# Install the huggingface_hub package\n",
        "# This package provides utilities to interact with the Hugging Face Hub, which hosts models, datasets, and other resources for NLP tasks\n",
        "! pip install huggingface_hub"
      ]
    },
    {
      "cell_type": "code",
      "execution_count": null,
      "id": "0PFuywHLFRyW",
      "metadata": {
        "colab": {
          "base_uri": "https://localhost:8080/"
        },
        "executionInfo": {
          "elapsed": 15433,
          "status": "ok",
          "timestamp": 1720594595797,
          "user": {
            "displayName": "",
            "userId": ""
          },
          "user_tz": -330
        },
        "id": "0PFuywHLFRyW",
        "outputId": "c30496e9-42d5-4a2a-f4fc-d5aa73dcd01f"
      },
      "outputs": [],
      "source": [
        "# Log in to the Hugging Face Hub using the Hugging Face CLI\n",
        "# This command will prompt you to enter your Hugging Face credentials (username and password)\n",
        "# Logging in allows you to push and pull models, datasets, and other resources from your Hugging Face account\n",
        "! huggingface-cli login"
      ]
    },
    {
      "cell_type": "code",
      "execution_count": 9,
      "id": "AEi4uJVEbia_",
      "metadata": {
        "colab": {
          "base_uri": "https://localhost:8080/",
          "height": 36
        },
        "executionInfo": {
          "elapsed": 7,
          "status": "ok",
          "timestamp": 1720594619772,
          "user": {
            "displayName": "",
            "userId": ""
          },
          "user_tz": -330
        },
        "id": "AEi4uJVEbia_",
        "outputId": "be9c0d66-4a19-426d-da5c-40473221c059"
      },
      "outputs": [
        {
          "data": {
            "application/vnd.google.colaboratory.intrinsic+json": {
              "type": "string"
            },
            "text/plain": [
              "'/content/LLaMA-Factory'"
            ]
          },
          "execution_count": 9,
          "metadata": {},
          "output_type": "execute_result"
        }
      ],
      "source": [
        "# Change the current working directory back to the LLaMA-Factory directory\n",
        "# This ensures that we are in the correct directory to run the LLaMA-Factory web UI script\n",
        "%cd /content/LLaMA-Factory"
      ]
    },
    {
      "cell_type": "code",
      "execution_count": null,
      "id": "TEVNT4vctTUv",
      "metadata": {
        "colab": {
          "base_uri": "https://localhost:8080/"
        },
        "executionInfo": {
          "elapsed": 1193009,
          "status": "ok",
          "timestamp": 1720597712797,
          "user": {
            "displayName": "",
            "userId": ""
          },
          "user_tz": -330
        },
        "id": "TEVNT4vctTUv",
        "outputId": "3b4446c7-e00d-4949-ec55-33649100a98f"
      },
      "outputs": [],
      "source": [
        "# Run the web UI for LLaMA-Factory\n",
        "# This script starts the web user interface for LLaMA-Factory, allowing you to interact with the application via a browser\n",
        "! python src/webui.py"
      ]
    },
    {
      "cell_type": "code",
      "execution_count": null,
      "id": "C2Da7PQ6jzIh",
      "metadata": {
        "id": "C2Da7PQ6jzIh"
      },
      "outputs": [],
      "source": []
    }
  ],
  "metadata": {
    "colab": {
      "name": "ashutossahoo3984 (6 Jul 2024, 11:59:55)",
      "provenance": []
    },
    "kernelspec": {
      "display_name": "Python 3",
      "language": "python",
      "name": "python3"
    },
    "language_info": {
      "codemirror_mode": {
        "name": "ipython",
        "version": 3
      },
      "file_extension": ".py",
      "mimetype": "text/x-python",
      "name": "python",
      "nbconvert_exporter": "python",
      "pygments_lexer": "ipython3",
      "version": "3.10.10"
    }
  },
  "nbformat": 4,
  "nbformat_minor": 5
}
